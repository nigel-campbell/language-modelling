{
 "cells": [
  {
   "cell_type": "code",
   "execution_count": 1,
   "metadata": {},
   "outputs": [],
   "source": [
    "import torch\n",
    "import torch.nn as nn\n",
    "import torch.nn.functional as F\n",
    "import data"
   ]
  },
  {
   "cell_type": "code",
   "execution_count": 2,
   "metadata": {},
   "outputs": [],
   "source": [
    "verbose = False\n",
    "path = './data/2013.txt'\n",
    "corpus = data.Corpus(path, verbose)"
   ]
  },
  {
   "cell_type": "code",
   "execution_count": 3,
   "metadata": {},
   "outputs": [],
   "source": [
    "class Model(nn.Module):\n",
    "        \n",
    "    def __init__(self, vocab_size, embed_size, nhidden, nlayers):\n",
    "        super(Model, self).__init__()\n",
    "        self.encoder = nn.Embedding(vocab_size, embed_size)\n",
    "        self.rnn = nn.RNN(embed_size, nhidden, nlayers)\n",
    "        self.decoder = nn.Linear(nhidden, vocab_size)\n",
    "\n",
    "    def forward(self, x, h0):\n",
    "        y = self.encoder(x)\n",
    "        y = y.unsqueeze(0)\n",
    "        y, h1 = self.rnn(y, h0)\n",
    "        y = self.decoder(y)\n",
    "        return y, h1"
   ]
  },
  {
   "cell_type": "code",
   "execution_count": 4,
   "metadata": {},
   "outputs": [
    {
     "data": {
      "text/plain": [
       "Model(\n",
       "  (encoder): Embedding(27738, 200)\n",
       "  (rnn): RNN(200, 10, num_layers=2)\n",
       "  (decoder): Linear(in_features=10, out_features=27738, bias=True)\n",
       ")"
      ]
     },
     "execution_count": 4,
     "metadata": {},
     "output_type": "execute_result"
    }
   ],
   "source": [
    "vocab_size = len(corpus)\n",
    "embed_size = 200\n",
    "nhidden = 10\n",
    "nlayers = 2\n",
    "lm = Model(vocab_size, embed_size, nhidden, nlayers)\n",
    "lm"
   ]
  },
  {
   "cell_type": "code",
   "execution_count": 5,
   "metadata": {},
   "outputs": [],
   "source": [
    "# for value in corpus.data:\n",
    "batch_size = 4\n",
    "x0 = torch.tensor([0,1,2,3])\n",
    "h0 = torch.zeros((nlayers, batch_size, nhidden))\n",
    "x1, h1 = lm(x0, h0)"
   ]
  },
  {
   "cell_type": "code",
   "execution_count": 6,
   "metadata": {
    "scrolled": true
   },
   "outputs": [
    {
     "data": {
      "text/plain": [
       "tensor([[[ 0.2761, -0.1069, -0.9166,  ..., -0.1119, -0.1515, -0.2233],\n",
       "         [ 0.7376, -0.0175, -0.8107,  ..., -0.1473, -0.5412,  0.0653],\n",
       "         [ 0.3830, -0.2736, -0.8513,  ..., -0.2904, -0.4090, -0.2455],\n",
       "         [ 0.3308, -0.3808, -0.9603,  ..., -0.7134, -0.5324,  0.3336]]],\n",
       "       grad_fn=<AddBackward0>)"
      ]
     },
     "execution_count": 6,
     "metadata": {},
     "output_type": "execute_result"
    }
   ],
   "source": [
    "x1"
   ]
  },
  {
   "cell_type": "code",
   "execution_count": 7,
   "metadata": {},
   "outputs": [
    {
     "data": {
      "text/plain": [
       "tensor([[[-0.9361,  0.9994, -0.5205,  0.9780,  0.8815, -0.8015,  0.9678,\n",
       "           0.9896,  0.9612, -0.0756],\n",
       "         [ 0.2070,  0.9935, -0.9218,  0.2652, -0.2870, -0.9832, -0.9905,\n",
       "          -0.9987,  0.8509, -0.2697],\n",
       "         [-0.6410,  0.9526,  0.7183, -0.6642,  0.2388, -0.9981,  0.9945,\n",
       "          -0.0747,  0.8875, -0.9931],\n",
       "         [ 0.9949,  0.2329, -0.8983, -0.6333,  0.9142,  0.6052,  0.9988,\n",
       "          -0.9907,  0.9464, -0.9994]],\n",
       "\n",
       "        [[ 0.7965, -0.4333,  0.2532,  0.6911, -0.2332,  0.2352, -0.1007,\n",
       "           0.4840, -0.7294, -0.1737],\n",
       "         [-0.3959, -0.3968, -0.2634,  0.1498, -0.6766,  0.6409, -0.5827,\n",
       "           0.1585, -0.4506, -0.0683],\n",
       "         [ 0.7903, -0.5223,  0.3608,  0.7237, -0.6363,  0.1969, -0.0592,\n",
       "           0.5547, -0.0294, -0.2775],\n",
       "         [ 0.0812, -0.7990, -0.2480, -0.0617, -0.6793,  0.6248, -0.5908,\n",
       "          -0.4095,  0.7514,  0.6860]]], grad_fn=<StackBackward>)"
      ]
     },
     "execution_count": 7,
     "metadata": {},
     "output_type": "execute_result"
    }
   ],
   "source": [
    "h1"
   ]
  },
  {
   "cell_type": "code",
   "execution_count": null,
   "metadata": {},
   "outputs": [],
   "source": []
  }
 ],
 "metadata": {
  "kernelspec": {
   "display_name": "Python 2",
   "language": "python",
   "name": "python2"
  },
  "language_info": {
   "codemirror_mode": {
    "name": "ipython",
    "version": 2
   },
   "file_extension": ".py",
   "mimetype": "text/x-python",
   "name": "python",
   "nbconvert_exporter": "python",
   "pygments_lexer": "ipython2",
   "version": "2.7.15"
  }
 },
 "nbformat": 4,
 "nbformat_minor": 2
}
