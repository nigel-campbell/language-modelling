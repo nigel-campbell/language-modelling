{
 "cells": [
  {
   "cell_type": "code",
   "execution_count": 53,
   "metadata": {},
   "outputs": [],
   "source": [
    "import torch\n",
    "import torch.nn as nn\n",
    "import torch.nn.functional as F\n",
    "import data"
   ]
  },
  {
   "cell_type": "code",
   "execution_count": 59,
   "metadata": {},
   "outputs": [],
   "source": [
    "verbose = False\n",
    "path = './data/2013.txt'\n",
    "corpus = data.Corpus(path, verbose)"
   ]
  },
  {
   "cell_type": "code",
   "execution_count": 221,
   "metadata": {},
   "outputs": [],
   "source": [
    "class Model(nn.Module):\n",
    "        \n",
    "    def __init__(self, vocab_size, embed_size, nhidden, nlayers):\n",
    "        super(Model, self).__init__()\n",
    "        self.encoder = nn.Embedding(vocab_size, embed_size)\n",
    "        self.rnn = nn.RNN(embed_size, nhidden, nlayers)\n",
    "        self.decoder = nn.Linear(nhidden, vocab_size)\n",
    "\n",
    "    def forward(self, x, h0):\n",
    "        y = self.encoder(x)\n",
    "        y = y.unsqueeze(0)\n",
    "        y, h1 = self.rnn(y, h0)\n",
    "        y = self.decoder(y)\n",
    "        return y, h1"
   ]
  },
  {
   "cell_type": "code",
   "execution_count": 222,
   "metadata": {},
   "outputs": [
    {
     "data": {
      "text/plain": [
       "Model(\n",
       "  (encoder): Embedding(27738, 200)\n",
       "  (rnn): RNN(200, 10, num_layers=2)\n",
       "  (decoder): Linear(in_features=10, out_features=27738, bias=True)\n",
       ")"
      ]
     },
     "execution_count": 222,
     "metadata": {},
     "output_type": "execute_result"
    }
   ],
   "source": [
    "vocab_size = len(corpus)\n",
    "embed_size = 200\n",
    "nhidden = 10\n",
    "nlayers = 2\n",
    "lm = Model(vocab_size, embed_size, nhidden, nlayers)\n",
    "lm"
   ]
  },
  {
   "cell_type": "code",
   "execution_count": 225,
   "metadata": {},
   "outputs": [],
   "source": [
    "# for value in corpus.data:\n",
    "batch_size = 4\n",
    "x0 = torch.tensor([0,1,2,3])\n",
    "h0 = torch.zeros((nlayers, batch_size, nhidden))\n",
    "x1, h1 = lm(x0, h0)"
   ]
  },
  {
   "cell_type": "code",
   "execution_count": 226,
   "metadata": {},
   "outputs": [
    {
     "data": {
      "text/plain": [
       "tensor([[[-0.2969, -0.3292, -0.2235,  ..., -0.2255,  0.0226, -0.3399],\n",
       "         [-0.0782, -0.6979,  0.0376,  ..., -0.4018, -0.3965, -0.3303],\n",
       "         [-0.6465, -0.3259, -0.4409,  ...,  0.1005,  0.2670, -0.2406],\n",
       "         [-0.4255, -0.5319,  0.1957,  ..., -0.0995, -0.3757,  0.0298]]],\n",
       "       grad_fn=<AddBackward0>)"
      ]
     },
     "execution_count": 226,
     "metadata": {},
     "output_type": "execute_result"
    }
   ],
   "source": [
    "x1"
   ]
  },
  {
   "cell_type": "code",
   "execution_count": 227,
   "metadata": {},
   "outputs": [
    {
     "data": {
      "text/plain": [
       "tensor([[[-0.6560,  0.9956,  0.9997, -0.9948,  0.9998,  0.9966, -0.9781,\n",
       "          -0.9348,  0.9925, -0.9965],\n",
       "         [-0.9595, -0.8528,  0.9627, -0.6544,  0.5191,  0.9991,  0.2578,\n",
       "           0.9999,  1.0000, -0.8570],\n",
       "         [-0.9998,  0.9783,  0.9998,  0.8684, -0.4752, -0.9780,  0.9998,\n",
       "          -0.8265, -0.9998, -0.3358],\n",
       "         [-0.9932, -0.8536, -0.8843,  0.9551,  0.9456,  0.9523,  0.9965,\n",
       "           0.9287,  0.9977,  1.0000]],\n",
       "\n",
       "        [[-0.7102,  0.3215,  0.1738, -0.3127,  0.5134,  0.0483, -0.0952,\n",
       "          -0.4888,  0.5740,  0.5322],\n",
       "         [-0.4869,  0.7400,  0.1801, -0.0563,  0.6440, -0.4786, -0.6095,\n",
       "          -0.5285, -0.1562,  0.8248],\n",
       "         [-0.7533,  0.1127, -0.1663,  0.1187,  0.4532,  0.4064,  0.5869,\n",
       "          -0.6205,  0.4580, -0.5041],\n",
       "         [-0.1361,  0.7331, -0.6528,  0.7432,  0.1696,  0.7135, -0.2977,\n",
       "           0.3027, -0.6600, -0.4026]]], grad_fn=<StackBackward>)"
      ]
     },
     "execution_count": 227,
     "metadata": {},
     "output_type": "execute_result"
    }
   ],
   "source": [
    "h1"
   ]
  },
  {
   "cell_type": "code",
   "execution_count": null,
   "metadata": {},
   "outputs": [],
   "source": []
  }
 ],
 "metadata": {
  "kernelspec": {
   "display_name": "Python 2",
   "language": "python",
   "name": "python2"
  },
  "language_info": {
   "codemirror_mode": {
    "name": "ipython",
    "version": 2
   },
   "file_extension": ".py",
   "mimetype": "text/x-python",
   "name": "python",
   "nbconvert_exporter": "python",
   "pygments_lexer": "ipython2",
   "version": "2.7.15"
  }
 },
 "nbformat": 4,
 "nbformat_minor": 2
}
