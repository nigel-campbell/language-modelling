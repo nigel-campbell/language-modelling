{
 "cells": [
  {
   "cell_type": "code",
   "execution_count": 291,
   "metadata": {},
   "outputs": [],
   "source": [
    "import torch\n",
    "import torch.nn as nn\n",
    "import torch.nn.functional as F\n",
    "import data\n",
    "\n",
    "# Assuming that you have completed training the classifer, let us plot the training loss vs. iteration. This is an\n",
    "# example to show a simple way to log and plot data from PyTorch.\n",
    "\n",
    "# we neeed matplotlib to plot the graphs for us!\n",
    "import matplotlib\n",
    "# This is needed to save images \n",
    "#matplotlib.use('Agg')\n",
    "import matplotlib.pyplot as plt\n",
    "%matplotlib inline"
   ]
  },
  {
   "cell_type": "code",
   "execution_count": 5,
   "metadata": {},
   "outputs": [],
   "source": [
    "verbose = False\n",
    "path = './data/2013.txt'\n",
    "corpus = data.Corpus(path, verbose)"
   ]
  },
  {
   "cell_type": "code",
   "execution_count": 332,
   "metadata": {},
   "outputs": [],
   "source": [
    "class RNN_LanguageModel(nn.Module):\n",
    "        \n",
    "    def __init__(self, vocab_size, embed_size, nhidden, nlayers):\n",
    "        super(RNN_LanguageModel, self).__init__()\n",
    "        self.encoder = nn.Embedding(vocab_size, embed_size)\n",
    "        self.rnn = nn.RNN(embed_size, nhidden, nlayers)\n",
    "        self.decoder = nn.Linear(nhidden, vocab_size)\n",
    "\n",
    "    def forward(self, x, h0):\n",
    "        y = self.encoder(x)\n",
    "        y = y.unsqueeze(0)\n",
    "        y, h1 = self.rnn(y, h0)\n",
    "        y = self.decoder(y)\n",
    "        return y, h1"
   ]
  },
  {
   "cell_type": "code",
   "execution_count": 313,
   "metadata": {},
   "outputs": [
    {
     "data": {
      "text/plain": [
       "RNN_LanguageModel(\n",
       "  (encoder): Embedding(27738, 200)\n",
       "  (rnn): RNN(200, 10, num_layers=2)\n",
       "  (decoder): Linear(in_features=10, out_features=27738, bias=True)\n",
       ")"
      ]
     },
     "execution_count": 313,
     "metadata": {},
     "output_type": "execute_result"
    }
   ],
   "source": [
    "device = torch.device(\"cpu\")\n",
    "\n",
    "vocab_size = len(corpus)\n",
    "embed_size = 200\n",
    "nhidden = 10\n",
    "nlayers = 2\n",
    "lm = RNN_LanguageModel(vocab_size, embed_size, nhidden, nlayers).to(device)\n",
    "lm"
   ]
  },
  {
   "cell_type": "code",
   "execution_count": null,
   "metadata": {},
   "outputs": [],
   "source": []
  },
  {
   "cell_type": "code",
   "execution_count": 397,
   "metadata": {},
   "outputs": [
    {
     "name": "stdout",
     "output_type": "stream",
     "text": [
      "tensor(10.1634, grad_fn=<NllLossBackward>)\n",
      "tensor(10.2635, grad_fn=<NllLossBackward>)\n",
      "tensor(10.2342, grad_fn=<NllLossBackward>)\n"
     ]
    }
   ],
   "source": [
    "# Validating RNN.\n",
    "batch_size = 10\n",
    "x0 = torch.tensor([0,1,2,3,5])\n",
    "h0 = torch.zeros((nlayers, batch_size, nhidden))\n",
    "#x1, h1 = lm(x0, h0)\n",
    "# lm(corpus.data[:batch_size].to(torch.long), h0)\n",
    "i = 0\n",
    "source = corpus.data[i:batch_size].to(torch.long)\n",
    "target1 = corpus.data[i+1:batch_size+1].to(torch.long)\n",
    "target2 = corpus.data[i+2:batch_size+2].to(torch.long)\n",
    "target3 = corpus.data[i+3:batch_size+3].to(torch.long)\n",
    "criterion = nn.CrossEntropyLoss()\n",
    "x1, h0 = lm(source, h0)\n",
    "x2, h0 = lm(target1, h0)\n",
    "x3, h0 = lm(target2, h0)\n",
    "print(criterion(x1.squeeze(), target1))\n",
    "print(criterion(x2.squeeze(), target2))\n",
    "print(criterion(x3.squeeze(), target3))"
   ]
  },
  {
   "cell_type": "code",
   "execution_count": 340,
   "metadata": {},
   "outputs": [
    {
     "name": "stdout",
     "output_type": "stream",
     "text": [
      "LSTM_LanguageModel(\n",
      "  (encoder): Embedding(27738, 200)\n",
      "  (rnn): LSTM(200, 10, num_layers=2)\n",
      "  (decoder): Linear(in_features=10, out_features=27738, bias=True)\n",
      ")\n",
      "(tensor([[[-0.0211,  0.3336,  0.2109,  ...,  0.0989,  0.3161,  0.0185],\n",
      "         [ 0.0069,  0.3308,  0.2661,  ...,  0.1106,  0.3192,  0.0528],\n",
      "         [ 0.0310,  0.3173,  0.2313,  ...,  0.0940,  0.2909,  0.0560],\n",
      "         [-0.0160,  0.4155,  0.1853,  ...,  0.0788,  0.3015,  0.0732],\n",
      "         [ 0.0049,  0.3132,  0.2097,  ...,  0.1084,  0.3273,  0.0594]]],\n",
      "       grad_fn=<AddBackward0>), (tensor([[[-5.0554e-03,  5.4847e-03, -3.1448e-02, -1.6865e-01,  5.6896e-01,\n",
      "           2.4961e-02,  5.2508e-04, -4.0609e-02,  8.9158e-03, -7.7532e-02],\n",
      "         [-1.2388e-01,  3.0588e-01, -5.1704e-01,  1.5570e-01,  4.3015e-01,\n",
      "          -8.7585e-03,  7.4090e-02,  9.1461e-04, -5.8432e-01, -5.0778e-01],\n",
      "         [ 4.5299e-01,  2.1395e-01, -1.0402e-01,  4.3592e-02,  3.7785e-03,\n",
      "           1.2548e-01,  6.6925e-02, -2.8850e-02, -1.1214e-05, -2.2019e-02],\n",
      "         [-6.5777e-01,  6.2424e-03,  1.2454e-01,  4.6376e-01,  8.3559e-02,\n",
      "           4.9013e-01,  8.8036e-02, -1.3906e-01,  3.1480e-01,  3.6659e-02],\n",
      "         [-1.7701e-01,  2.7553e-01,  4.0142e-02,  4.1165e-02, -1.2478e-01,\n",
      "          -5.4353e-01,  4.9050e-01, -6.9489e-02,  4.6888e-01, -3.7465e-03]],\n",
      "\n",
      "        [[ 2.6843e-02, -1.5986e-03,  3.7486e-02,  1.8571e-02,  1.1941e-02,\n",
      "          -5.1291e-02, -1.5904e-01,  3.3242e-02,  2.6330e-02,  4.5928e-02],\n",
      "         [-8.8995e-02,  8.0071e-03,  1.1102e-01, -1.3116e-02,  3.6025e-02,\n",
      "           2.0734e-02, -1.2470e-01,  1.0598e-02,  6.9173e-02,  1.3133e-01],\n",
      "         [-4.6615e-02, -2.1124e-02,  3.3023e-02,  3.1031e-02, -1.3048e-02,\n",
      "          -7.3243e-03, -1.3121e-01,  1.8798e-03, -3.8121e-03,  1.0905e-01],\n",
      "         [ 1.0472e-01,  1.9257e-02,  8.8973e-02, -1.2488e-01, -2.1534e-02,\n",
      "          -1.0419e-01, -1.2895e-01, -3.1581e-02, -7.4685e-02,  6.5182e-02],\n",
      "         [-5.3032e-02, -1.4702e-02,  1.6883e-02,  4.3069e-02,  1.0817e-02,\n",
      "          -1.2407e-01, -1.0001e-01,  2.9878e-02,  1.4312e-02,  6.1775e-02]]],\n",
      "       grad_fn=<StackBackward>), tensor([[[-0.0466,  0.0074, -0.7466, -0.3102,  0.6528,  0.1457,  0.0517,\n",
      "          -0.0818,  0.0303, -0.3379],\n",
      "         [-0.2689,  0.3288, -0.6463,  0.2580,  0.4800, -0.0115,  0.1360,\n",
      "           0.2473, -0.7022, -0.5741],\n",
      "         [ 0.5512,  0.2249, -0.9114,  0.6284,  0.0040,  0.1331,  0.1517,\n",
      "          -0.3250, -0.0468, -0.3281],\n",
      "         [-0.8052,  0.0064,  0.9495,  0.5219,  0.8972,  0.6624,  0.1147,\n",
      "          -0.4331,  0.5062,  0.0405],\n",
      "         [-0.2347,  0.3439,  0.0900,  0.0427, -0.3763, -0.6196,  0.5472,\n",
      "          -0.1406,  0.5165, -0.0138]],\n",
      "\n",
      "        [[ 0.0507, -0.0047,  0.0777,  0.0363,  0.0239, -0.1001, -0.3324,\n",
      "           0.0737,  0.0571,  0.0823],\n",
      "         [-0.1534,  0.0227,  0.2443, -0.0233,  0.0718,  0.0410, -0.2877,\n",
      "           0.0243,  0.1777,  0.2559],\n",
      "         [-0.0923, -0.0612,  0.0758,  0.0609, -0.0258, -0.0147, -0.2551,\n",
      "           0.0036, -0.0086,  0.1880],\n",
      "         [ 0.2386,  0.0483,  0.1980, -0.2612, -0.0485, -0.2077, -0.2764,\n",
      "          -0.0638, -0.1370,  0.1133],\n",
      "         [-0.1039, -0.0347,  0.0403,  0.0937,  0.0221, -0.2265, -0.2023,\n",
      "           0.0539,  0.0299,  0.1172]]], grad_fn=<StackBackward>)))\n"
     ]
    }
   ],
   "source": [
    "class LSTM_LanguageModel(nn.Module):\n",
    "        \n",
    "    def __init__(self, vocab_size, embed_size, nhidden, nlayers):\n",
    "        super(LSTM_LanguageModel, self).__init__()\n",
    "        self.encoder = nn.Embedding(vocab_size, embed_size)\n",
    "        self.rnn = nn.LSTM(embed_size, nhidden, nlayers)\n",
    "        self.decoder = nn.Linear(nhidden, vocab_size)\n",
    "\n",
    "    def forward(self, x, h0):\n",
    "        y = self.encoder(x)\n",
    "        y = y.unsqueeze(0)\n",
    "        y, h1 = self.rnn(y, h0)\n",
    "        y = self.decoder(y)\n",
    "        return y, h1\n",
    "\n",
    "\n",
    "lstm_lm = LSTM_LanguageModel(vocab_size, embed_size, nhidden, nlayers)\n",
    "print lstm_lm\n",
    "\n",
    "batch_size = 5\n",
    "x0 = torch.tensor([0,1,10,3,5])\n",
    "h0 = torch.zeros((nlayers, batch_size, nhidden))\n",
    "lstm_lm.zero_grad()\n",
    "x1, h1 = lstm_lm(x0, (h0, h0))\n",
    "print(x1, h1)\n",
    "# lstm_lm(corpus.data[:batch_size].to(torch.long), h0)"
   ]
  },
  {
   "cell_type": "code",
   "execution_count": 294,
   "metadata": {},
   "outputs": [],
   "source": [
    "'''\n",
    "Converts sequence to tensor.\n",
    "'''\n",
    "def seq2ix(seq, corpus):\n",
    "    sequence = [corpus.word2ix[val] for val in seq.split()]\n",
    "    return torch.tensor(sequence)\n",
    "\n",
    "'''\n",
    "Converts tensor output to actual words.\n",
    "'''\n",
    "def ix2word(data, corpus):\n",
    "    to_word = lambda val, corpus: corpus.ix2word[val]\n",
    "    return map(lambda x: to_word(x, corpus), data)\n",
    "\n",
    "\n",
    "def batch(data, i, length):\n",
    "    source = data[i:i+length]\n",
    "    target = data[i+1:i+length+1].to(torch.long)\n",
    "    return source, target\n",
    "\n",
    "'''\n",
    "Runs a single training epoch on the dataset.\n",
    "\n",
    "Warning: One EPOCH took\n",
    "CPU times: user 2min 45s, sys: 40.5 s, total: 3min 26s\n",
    "Definitely needs to be trained on ICEHAMMER GPUs.\n",
    "'''\n",
    "def train(lm, corpus, seq_length, criterion=nn.CrossEntropyLoss(), lr=0.01, momentum=0.9, start = 0):\n",
    "    lm.train()\n",
    "    optimizer = torch.optim.SGD(lm.parameters(), lr=lr, momentum=momentum)\n",
    "    total_loss = 0.\n",
    "    data = corpus.data\n",
    "    length = data.size(0)\n",
    "    iterations = 1\n",
    "    for i in range(start, length-seq_length, seq_length):\n",
    "        lm.zero_grad()\n",
    "        source, targets = batch(data, i, seq_length)\n",
    "        source = source.to(torch.long)\n",
    "        h0 = torch.zeros((nlayers, source.size(0), nhidden)) #TODO Come up with better initial hidden\n",
    "        output, hidden = lm(source, h0)\n",
    "        output = output.squeeze()\n",
    "        loss = criterion(output, targets)\n",
    "        total_loss += loss.item()\n",
    "        iterations += 1\n",
    "        loss.backward() \n",
    "        optimizer.step()\n",
    "    return total_loss / iterations\n",
    "\n",
    "def fit(lm, epochs, seq_length = 15):\n",
    "    loss_history = []\n",
    "    print(\"Running for {} epochs\".format(epochs))\n",
    "    for epoch in range(epochs):\n",
    "        loss = train(lm, corpus, seq_length)\n",
    "        print(\"Loss {}, Epoch {}\".format(loss, epoch))\n",
    "        loss_history.append(loss)\n",
    "    return loss_history\n",
    "\n",
    "def generate(lm, words, corpus, temperature=1.):\n",
    "    sentence = []\n",
    "    for word in words.split():\n",
    "        x0 = seq2ix(word, corpus)\n",
    "        batch_size = x0.size(0)\n",
    "        h0 = torch.zeros((nlayers, batch_size, nhidden))\n",
    "        x1, h1 = lm(x0, h0)\n",
    "        word = torch.multinomial(x1.div(temperature).exp(), 1).squeeze()\n",
    "        sentence.extend(ix2word([word], corpus))\n",
    "    return ' '.join(sentence)"
   ]
  },
  {
   "cell_type": "code",
   "execution_count": 290,
   "metadata": {
    "scrolled": true
   },
   "outputs": [
    {
     "name": "stdout",
     "output_type": "stream",
     "text": [
      "Running for 5 epochs\n",
      "Loss 7.12376367769, Epoch 0\n",
      "Loss 7.10441153055, Epoch 1\n",
      "Loss 7.09085502294, Epoch 2\n",
      "Loss 7.07644969237, Epoch 3\n",
      "Loss 7.06449438176, Epoch 4\n",
      "CPU times: user 46min 43s, sys: 4min, total: 50min 43s\n",
      "Wall time: 48min 55s\n"
     ]
    },
    {
     "data": {
      "image/png": "[encoded data removed]",
      "text/plain": [
       "<Figure size 432x288 with 1 Axes>"
      ]
     },
     "metadata": {
      "needs_background": "light"
     },
     "output_type": "display_data"
    }
   ],
   "source": [
    "epochs = 5\n",
    "%time loss_history = fit(lm, epochs)\n",
    "if len(loss_history) > 1: # No need to plot if only one epoch of loss\n",
    "    plt.plot(loss_history)\n",
    "    plt.xlabel('Iteration')\n",
    "    plt.ylabel('Loss')\n",
    "    plt.title('Training loss history')\n",
    "    plt.show()\n",
    "else:\n",
    "    print(loss_history)"
   ]
  },
  {
   "cell_type": "code",
   "execution_count": null,
   "metadata": {},
   "outputs": [],
   "source": [
    "epochs = 1\n",
    "%time loss_history = fit(lstm_lm, epochs)\n",
    "print(loss_history)"
   ]
  },
  {
   "cell_type": "code",
   "execution_count": null,
   "metadata": {},
   "outputs": [],
   "source": []
  },
  {
   "cell_type": "code",
   "execution_count": 343,
   "metadata": {},
   "outputs": [],
   "source": [
    "import model\n",
    "\n",
    "test = model.R"
   ]
  },
  {
   "cell_type": "code",
   "execution_count": null,
   "metadata": {},
   "outputs": [],
   "source": []
  },
  {
   "cell_type": "code",
   "execution_count": null,
   "metadata": {},
   "outputs": [],
   "source": []
  }
 ],
 "metadata": {
  "kernelspec": {
   "display_name": "Python 2",
   "language": "python",
   "name": "python2"
  },
  "language_info": {
   "codemirror_mode": {
    "name": "ipython",
    "version": 2
   },
   "file_extension": ".py",
   "mimetype": "text/x-python",
   "name": "python",
   "nbconvert_exporter": "python",
   "pygments_lexer": "ipython2",
   "version": "2.7.15"
  }
 },
 "nbformat": 4,
 "nbformat_minor": 2
}
