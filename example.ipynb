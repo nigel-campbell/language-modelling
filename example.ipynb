{
 "cells": [
  {
   "cell_type": "code",
   "execution_count": 53,
   "metadata": {},
   "outputs": [],
   "source": [
    "import torch\n",
    "import torch.nn as nn\n",
    "import torch.nn.functional as F\n",
    "import data"
   ]
  },
  {
   "cell_type": "code",
   "execution_count": 59,
   "metadata": {},
   "outputs": [],
   "source": [
    "verbose = False\n",
    "path = './data/2013.txt'\n",
    "corpus = data.Corpus(path, verbose)"
   ]
  },
  {
   "cell_type": "code",
   "execution_count": 218,
   "metadata": {},
   "outputs": [],
   "source": [
    "class Model(nn.Module):\n",
    "        \n",
    "    def __init__(self, vocab_size, embed_size, nhidden, nlayers):\n",
    "        super(Model, self).__init__()\n",
    "        self.encoder = nn.Embedding(vocab_size, embed_size)\n",
    "        self.rnn = nn.RNN(embed_size, nhidden, nlayers)\n",
    "        self.decoder = nn.Linear(nhidden, vocab_size)\n",
    "\n",
    "    def forward(self, x, h0):\n",
    "        y = self.encoder(x)\n",
    "        y = y.unsqueeze(0)\n",
    "        y, h1 = self.rnn(y, h0)\n",
    "        y = self.decoder(y)\n",
    "        return y, h1"
   ]
  },
  {
   "cell_type": "code",
   "execution_count": 216,
   "metadata": {},
   "outputs": [
    {
     "data": {
      "text/plain": [
       "Model(\n",
       "  (encoder): Embedding(27738, 200)\n",
       "  (rnn): RNN(200, 10, num_layers=2)\n",
       "  (decoder): Linear(in_features=10, out_features=27738, bias=True)\n",
       ")"
      ]
     },
     "execution_count": 216,
     "metadata": {},
     "output_type": "execute_result"
    }
   ],
   "source": [
    "vocab_size = len(corpus)\n",
    "embed_size = 200\n",
    "nhidden = 10\n",
    "nlayers = 2\n",
    "lm = Model(vocab_size, embed_size, nhidden, nlayers)\n",
    "lm"
   ]
  },
  {
   "cell_type": "code",
   "execution_count": 217,
   "metadata": {},
   "outputs": [
    {
     "name": "stdout",
     "output_type": "stream",
     "text": [
      "torch.Size([4])\n",
      "torch.Size([4, 200])\n",
      "torch.Size([1, 4, 200])\n",
      "torch.Size([1, 4, 10])\n"
     ]
    },
    {
     "data": {
      "text/plain": [
       "tensor([[[-0.0497,  0.2228, -0.1026,  ..., -0.0213, -0.1622,  0.0666],\n",
       "         [-0.3541,  0.1122, -0.4661,  ...,  0.2050, -0.3343, -0.0287],\n",
       "         [ 0.2209,  0.2727, -0.4521,  ...,  0.1353, -0.0984, -0.1304],\n",
       "         [-0.3459, -0.0217, -0.3512,  ...,  0.4322, -0.4496, -0.1487]]],\n",
       "       grad_fn=<AddBackward0>)"
      ]
     },
     "execution_count": 217,
     "metadata": {},
     "output_type": "execute_result"
    }
   ],
   "source": [
    "# for value in corpus.data:\n",
    "x = torch.tensor([0,1,2,3])\n",
    "h0 = torch.zeros((nhidden, 4, 10))\n",
    "lm(x, h0)"
   ]
  },
  {
   "cell_type": "code",
   "execution_count": 202,
   "metadata": {},
   "outputs": [
    {
     "data": {
      "text/plain": [
       "tensor([[[0., 0., 0.],\n",
       "         [0., 0., 0.]]])"
      ]
     },
     "execution_count": 202,
     "metadata": {},
     "output_type": "execute_result"
    }
   ],
   "source": [
    "torch.zeros((1,2,3))"
   ]
  },
  {
   "cell_type": "code",
   "execution_count": null,
   "metadata": {},
   "outputs": [],
   "source": []
  }
 ],
 "metadata": {
  "kernelspec": {
   "display_name": "Python 2",
   "language": "python",
   "name": "python2"
  },
  "language_info": {
   "codemirror_mode": {
    "name": "ipython",
    "version": 2
   },
   "file_extension": ".py",
   "mimetype": "text/x-python",
   "name": "python",
   "nbconvert_exporter": "python",
   "pygments_lexer": "ipython2",
   "version": "2.7.15"
  }
 },
 "nbformat": 4,
 "nbformat_minor": 2
}
