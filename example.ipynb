{
 "cells": [
  {
   "cell_type": "code",
   "execution_count": 53,
   "metadata": {},
   "outputs": [],
   "source": [
    "import torch\n",
    "import torch.nn as nn\n",
    "import torch.nn.functional as F\n",
    "import data"
   ]
  },
  {
   "cell_type": "code",
   "execution_count": 59,
   "metadata": {},
   "outputs": [],
   "source": [
    "verbose = False\n",
    "path = './data/2013.txt'\n",
    "corpus = data.Corpus(path, verbose)"
   ]
  },
  {
   "cell_type": "code",
   "execution_count": 122,
   "metadata": {},
   "outputs": [],
   "source": [
    "class Model(nn.Module):\n",
    "        \n",
    "    def __init__(self, vocab_size, embed_size, nhidden, nlayers):\n",
    "        super(Model, self).__init__()\n",
    "        self.encoder = nn.Embedding(vocab_size, embed_size)\n",
    "        self.rnn = nn.RNN(embed_size, nhidden, nlayers)\n",
    "        self.decoder = nn.Linear(nhidden, vocab_size)\n",
    "\n",
    "    def forward(self, x, h0):\n",
    "        y = self.encoder(x)\n",
    "        y = self.rnn(x, h0)\n",
    "        y = self.decoder(y)\n",
    "        #output = F.log_softmax(output, dim=0)\n",
    "        return output"
   ]
  },
  {
   "cell_type": "code",
   "execution_count": 125,
   "metadata": {},
   "outputs": [
    {
     "data": {
      "text/plain": [
       "Model(\n",
       "  (encoder): Embedding(27738, 200)\n",
       "  (rnn): RNN(200, 10, num_layers=2)\n",
       "  (decoder): Linear(in_features=10, out_features=27738, bias=True)\n",
       ")"
      ]
     },
     "execution_count": 125,
     "metadata": {},
     "output_type": "execute_result"
    }
   ],
   "source": [
    "vocab_size = len(corpus)\n",
    "embed_size = 200\n",
    "nhidden = 10\n",
    "nlayers = 2\n",
    "lm = Model(vocab_size, embed_size, nhidden, nlayers)\n",
    "lm\n",
    "# for i in range(10):\n",
    "#     out = lm(corpus.data[i].to(torch.long), torch.tensor(i)).argmax()\n",
    "#     print(corpus.ix2word[out])"
   ]
  },
  {
   "cell_type": "code",
   "execution_count": null,
   "metadata": {},
   "outputs": [],
   "source": []
  },
  {
   "cell_type": "code",
   "execution_count": null,
   "metadata": {},
   "outputs": [],
   "source": []
  },
  {
   "cell_type": "code",
   "execution_count": null,
   "metadata": {},
   "outputs": [],
   "source": []
  }
 ],
 "metadata": {
  "kernelspec": {
   "display_name": "Python 2",
   "language": "python",
   "name": "python2"
  },
  "language_info": {
   "codemirror_mode": {
    "name": "ipython",
    "version": 2
   },
   "file_extension": ".py",
   "mimetype": "text/x-python",
   "name": "python",
   "nbconvert_exporter": "python",
   "pygments_lexer": "ipython2",
   "version": "2.7.15"
  }
 },
 "nbformat": 4,
 "nbformat_minor": 2
}
